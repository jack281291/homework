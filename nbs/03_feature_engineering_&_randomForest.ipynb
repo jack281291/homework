{
 "cells": [
  {
   "cell_type": "markdown",
   "id": "thousand-sword",
   "metadata": {},
   "source": [
    "# 9) Perform any feature engineering and explain the reasons behind. E.g. new features from existing, re-grouping categorical variable categories, meaningful encoding, binning etc. "
   ]
  },
  {
   "cell_type": "code",
   "execution_count": 1,
   "id": "broad-wealth",
   "metadata": {},
   "outputs": [],
   "source": [
    "import sys\n",
    "sys.path.append(\"../src/\")\n",
    "import pandas as pd\n",
    "import numpy as np\n",
    "from pyspark.sql import SparkSession\n",
    "import pyspark.sql.functions as F\n",
    "from pyspark.ml.feature import ChiSqSelector, VectorAssembler, StringIndexer, StandardScaler\n",
    "from pyspark.ml import Pipeline\n",
    "from pyspark.ml.feature import QuantileDiscretizer\n",
    "# create sparksession\n",
    "spark = SparkSession \\\n",
    "    .builder \\\n",
    "    .appName(\"Pysparkexample\") \\\n",
    "    .config(\"spark.some.config.option\", \"some-value\") \\\n",
    "    .getOrCreate()\n",
    "from config import *"
   ]
  },
  {
   "cell_type": "code",
   "execution_count": 2,
   "id": "alike-player",
   "metadata": {},
   "outputs": [],
   "source": [
    "pd.options.display.max_columns=999\n",
    "pd.options.display.max_rows=999"
   ]
  },
  {
   "cell_type": "code",
   "execution_count": 3,
   "id": "mathematical-conversion",
   "metadata": {},
   "outputs": [],
   "source": [
    "df = spark.read.parquet(\"../data/census_income.parquet\")"
   ]
  },
  {
   "cell_type": "code",
   "execution_count": 4,
   "id": "split-event",
   "metadata": {},
   "outputs": [],
   "source": [
    "df_test = spark.read.csv(\"../data/census-income.test\", header=False, inferSchema=True)"
   ]
  },
  {
   "cell_type": "code",
   "execution_count": 5,
   "id": "located-oliver",
   "metadata": {},
   "outputs": [],
   "source": [
    "df_test = df_test.drop(\"_c24\")"
   ]
  },
  {
   "cell_type": "code",
   "execution_count": 6,
   "id": "radio-dover",
   "metadata": {},
   "outputs": [],
   "source": [
    "df_descr = pd.read_csv(\"../data/column_name.csv\")"
   ]
  },
  {
   "cell_type": "code",
   "execution_count": 7,
   "id": "biological-incentive",
   "metadata": {},
   "outputs": [],
   "source": [
    "columns = list(df_descr[\"Column Name\"])"
   ]
  },
  {
   "cell_type": "code",
   "execution_count": 8,
   "id": "younger-brand",
   "metadata": {},
   "outputs": [],
   "source": [
    "df_test = df_test.toDF(*columns)"
   ]
  },
  {
   "cell_type": "code",
   "execution_count": 9,
   "id": "diagnostic-slope",
   "metadata": {},
   "outputs": [
    {
     "data": {
      "text/plain": [
       "(99762, 41)"
      ]
     },
     "execution_count": 9,
     "metadata": {},
     "output_type": "execute_result"
    }
   ],
   "source": [
    "df_test.count(), len(df_test.columns)"
   ]
  },
  {
   "cell_type": "code",
   "execution_count": 10,
   "id": "accurate-treaty",
   "metadata": {},
   "outputs": [],
   "source": [
    "def count_missings(spark_df,sort=True):\n",
    "    df = spark_df.select([F.count(F.when(F.isnan(c) | F.isnull(c), c)).alias(c) for c in spark_df.columns]).toPandas()\n",
    "\n",
    "    if len(df) == 0:\n",
    "        print(\"There are no any missing values!\")\n",
    "        return None\n",
    "\n",
    "    if sort:\n",
    "        return df.rename(index={0: 'count'}).T.sort_values(\"count\",ascending=False)\n",
    "\n",
    "    return df"
   ]
  },
  {
   "cell_type": "code",
   "execution_count": 11,
   "id": "instructional-breakfast",
   "metadata": {
    "scrolled": true
   },
   "outputs": [
    {
     "data": {
      "text/html": [
       "<div>\n",
       "<style scoped>\n",
       "    .dataframe tbody tr th:only-of-type {\n",
       "        vertical-align: middle;\n",
       "    }\n",
       "\n",
       "    .dataframe tbody tr th {\n",
       "        vertical-align: top;\n",
       "    }\n",
       "\n",
       "    .dataframe thead th {\n",
       "        text-align: right;\n",
       "    }\n",
       "</style>\n",
       "<table border=\"1\" class=\"dataframe\">\n",
       "  <thead>\n",
       "    <tr style=\"text-align: right;\">\n",
       "      <th></th>\n",
       "      <th>count</th>\n",
       "    </tr>\n",
       "  </thead>\n",
       "  <tbody>\n",
       "    <tr>\n",
       "      <th>age</th>\n",
       "      <td>0</td>\n",
       "    </tr>\n",
       "    <tr>\n",
       "      <th>state_prev_res</th>\n",
       "      <td>0</td>\n",
       "    </tr>\n",
       "    <tr>\n",
       "      <th>det_hh_summ</th>\n",
       "      <td>0</td>\n",
       "    </tr>\n",
       "    <tr>\n",
       "      <th>mig_chg_msa</th>\n",
       "      <td>0</td>\n",
       "    </tr>\n",
       "    <tr>\n",
       "      <th>mig_chg_reg</th>\n",
       "      <td>0</td>\n",
       "    </tr>\n",
       "    <tr>\n",
       "      <th>mig_move_reg</th>\n",
       "      <td>0</td>\n",
       "    </tr>\n",
       "    <tr>\n",
       "      <th>mig_same</th>\n",
       "      <td>0</td>\n",
       "    </tr>\n",
       "    <tr>\n",
       "      <th>mig_prev_sunbelt</th>\n",
       "      <td>0</td>\n",
       "    </tr>\n",
       "    <tr>\n",
       "      <th>num_emp</th>\n",
       "      <td>0</td>\n",
       "    </tr>\n",
       "    <tr>\n",
       "      <th>fam_under_18</th>\n",
       "      <td>0</td>\n",
       "    </tr>\n",
       "    <tr>\n",
       "      <th>country_father</th>\n",
       "      <td>0</td>\n",
       "    </tr>\n",
       "    <tr>\n",
       "      <th>country_mother</th>\n",
       "      <td>0</td>\n",
       "    </tr>\n",
       "    <tr>\n",
       "      <th>country_self</th>\n",
       "      <td>0</td>\n",
       "    </tr>\n",
       "    <tr>\n",
       "      <th>citizenship</th>\n",
       "      <td>0</td>\n",
       "    </tr>\n",
       "    <tr>\n",
       "      <th>own_or_self</th>\n",
       "      <td>0</td>\n",
       "    </tr>\n",
       "    <tr>\n",
       "      <th>vet_question</th>\n",
       "      <td>0</td>\n",
       "    </tr>\n",
       "    <tr>\n",
       "      <th>vet_benefits</th>\n",
       "      <td>0</td>\n",
       "    </tr>\n",
       "    <tr>\n",
       "      <th>weeks_worked</th>\n",
       "      <td>0</td>\n",
       "    </tr>\n",
       "    <tr>\n",
       "      <th>year</th>\n",
       "      <td>0</td>\n",
       "    </tr>\n",
       "    <tr>\n",
       "      <th>det_hh_fam_stat</th>\n",
       "      <td>0</td>\n",
       "    </tr>\n",
       "    <tr>\n",
       "      <th>region_prev_res</th>\n",
       "      <td>0</td>\n",
       "    </tr>\n",
       "    <tr>\n",
       "      <th>class_worker</th>\n",
       "      <td>0</td>\n",
       "    </tr>\n",
       "    <tr>\n",
       "      <th>tax_filer_stat</th>\n",
       "      <td>0</td>\n",
       "    </tr>\n",
       "    <tr>\n",
       "      <th>det_ind_code</th>\n",
       "      <td>0</td>\n",
       "    </tr>\n",
       "    <tr>\n",
       "      <th>det_occ_code</th>\n",
       "      <td>0</td>\n",
       "    </tr>\n",
       "    <tr>\n",
       "      <th>education</th>\n",
       "      <td>0</td>\n",
       "    </tr>\n",
       "    <tr>\n",
       "      <th>wage_per_hour</th>\n",
       "      <td>0</td>\n",
       "    </tr>\n",
       "    <tr>\n",
       "      <th>hs_college</th>\n",
       "      <td>0</td>\n",
       "    </tr>\n",
       "    <tr>\n",
       "      <th>marital_stat</th>\n",
       "      <td>0</td>\n",
       "    </tr>\n",
       "    <tr>\n",
       "      <th>major_ind_code</th>\n",
       "      <td>0</td>\n",
       "    </tr>\n",
       "    <tr>\n",
       "      <th>major_occ_code</th>\n",
       "      <td>0</td>\n",
       "    </tr>\n",
       "    <tr>\n",
       "      <th>race</th>\n",
       "      <td>0</td>\n",
       "    </tr>\n",
       "    <tr>\n",
       "      <th>hisp_origin</th>\n",
       "      <td>0</td>\n",
       "    </tr>\n",
       "    <tr>\n",
       "      <th>sex</th>\n",
       "      <td>0</td>\n",
       "    </tr>\n",
       "    <tr>\n",
       "      <th>union_member</th>\n",
       "      <td>0</td>\n",
       "    </tr>\n",
       "    <tr>\n",
       "      <th>unemp_reason</th>\n",
       "      <td>0</td>\n",
       "    </tr>\n",
       "    <tr>\n",
       "      <th>full_or_part_emp</th>\n",
       "      <td>0</td>\n",
       "    </tr>\n",
       "    <tr>\n",
       "      <th>capital_gains</th>\n",
       "      <td>0</td>\n",
       "    </tr>\n",
       "    <tr>\n",
       "      <th>capital_losses</th>\n",
       "      <td>0</td>\n",
       "    </tr>\n",
       "    <tr>\n",
       "      <th>stock_dividends</th>\n",
       "      <td>0</td>\n",
       "    </tr>\n",
       "    <tr>\n",
       "      <th>income_50k</th>\n",
       "      <td>0</td>\n",
       "    </tr>\n",
       "  </tbody>\n",
       "</table>\n",
       "</div>"
      ],
      "text/plain": [
       "                  count\n",
       "age                   0\n",
       "state_prev_res        0\n",
       "det_hh_summ           0\n",
       "mig_chg_msa           0\n",
       "mig_chg_reg           0\n",
       "mig_move_reg          0\n",
       "mig_same              0\n",
       "mig_prev_sunbelt      0\n",
       "num_emp               0\n",
       "fam_under_18          0\n",
       "country_father        0\n",
       "country_mother        0\n",
       "country_self          0\n",
       "citizenship           0\n",
       "own_or_self           0\n",
       "vet_question          0\n",
       "vet_benefits          0\n",
       "weeks_worked          0\n",
       "year                  0\n",
       "det_hh_fam_stat       0\n",
       "region_prev_res       0\n",
       "class_worker          0\n",
       "tax_filer_stat        0\n",
       "det_ind_code          0\n",
       "det_occ_code          0\n",
       "education             0\n",
       "wage_per_hour         0\n",
       "hs_college            0\n",
       "marital_stat          0\n",
       "major_ind_code        0\n",
       "major_occ_code        0\n",
       "race                  0\n",
       "hisp_origin           0\n",
       "sex                   0\n",
       "union_member          0\n",
       "unemp_reason          0\n",
       "full_or_part_emp      0\n",
       "capital_gains         0\n",
       "capital_losses        0\n",
       "stock_dividends       0\n",
       "income_50k            0"
      ]
     },
     "execution_count": 11,
     "metadata": {},
     "output_type": "execute_result"
    }
   ],
   "source": [
    "count_missings(df_test)"
   ]
  },
  {
   "cell_type": "markdown",
   "id": "painful-apparel",
   "metadata": {},
   "source": [
    "## Create the number of years of education variable, it's a numeric version of education where the numeric difference has a meaning (more year of education tipically brings to an higher income)"
   ]
  },
  {
   "cell_type": "code",
   "execution_count": 12,
   "id": "geographic-journal",
   "metadata": {},
   "outputs": [],
   "source": [
    "dict_enc_edu = pd.read_csv(\"../data/edu_encoding.csv\")\n",
    "dict_enc_edu[\"education\"] = \" \" + dict_enc_edu[\"education\"]\n",
    "dict_enc_edu = dict_enc_edu.set_index(\"education\").to_dict()[\"edu_year\"]"
   ]
  },
  {
   "cell_type": "code",
   "execution_count": 13,
   "id": "professional-smooth",
   "metadata": {},
   "outputs": [
    {
     "data": {
      "text/plain": [
       "{' Children': 0.0,\n",
       " ' Less than 1st grade': 0.5,\n",
       " ' 1st 2nd 3rd or 4th grade': 2.5,\n",
       " ' 5th or 6th grade': 5.5,\n",
       " ' 7th and 8th grade': 7.5,\n",
       " ' 9th grade': 9.0,\n",
       " ' 10th grade': 10.0,\n",
       " ' 11th grade': 11.0,\n",
       " ' 12th grade no diploma': 12.0,\n",
       " ' High school graduate': 12.0,\n",
       " ' Some college but no degree': 14.0,\n",
       " ' Associates degree-academic program': 14.0,\n",
       " ' Associates degree-occup /vocational': 14.0,\n",
       " ' Bachelors degree(BA AB BS)': 16.0,\n",
       " ' Masters degree(MA MS MEng MEd MSW MBA)': 18.0,\n",
       " ' Prof school degree (MD DDS DVM LLB JD)': 20.0,\n",
       " ' Doctorate degree(PhD EdD)': 21.0}"
      ]
     },
     "execution_count": 13,
     "metadata": {},
     "output_type": "execute_result"
    }
   ],
   "source": [
    "dict_enc_edu"
   ]
  },
  {
   "cell_type": "code",
   "execution_count": 14,
   "id": "charitable-mandate",
   "metadata": {},
   "outputs": [],
   "source": [
    "dict_enc_edu.get(\"10th grade\")"
   ]
  },
  {
   "cell_type": "code",
   "execution_count": 15,
   "id": "differential-heater",
   "metadata": {},
   "outputs": [],
   "source": [
    "from pyspark.sql.functions import col, create_map, lit\n",
    "from itertools import chain\n",
    "\n",
    "mapping_expr = create_map([lit(x) for x in chain(*dict_enc_edu.items())])\n",
    "\n",
    "df = df.withColumn(\"edu_year\", mapping_expr.getItem(col(\"education\")))\n",
    "df_test = df_test.withColumn(\"edu_year\", mapping_expr.getItem(col(\"education\")))"
   ]
  },
  {
   "cell_type": "code",
   "execution_count": 16,
   "id": "nasty-sociology",
   "metadata": {},
   "outputs": [
    {
     "name": "stdout",
     "output_type": "stream",
     "text": [
      "+--------------------+--------+\n",
      "|           education|edu_year|\n",
      "+--------------------+--------+\n",
      "| Prof school degr...|    20.0|\n",
      "|          10th grade|    10.0|\n",
      "| Doctorate degree...|    21.0|\n",
      "| Some college but...|    14.0|\n",
      "| Bachelors degree...|    16.0|\n",
      "| Associates degre...|    14.0|\n",
      "| Associates degre...|    14.0|\n",
      "| Less than 1st grade|     0.5|\n",
      "|    5th or 6th grade|     5.5|\n",
      "| 1st 2nd 3rd or 4...|     2.5|\n",
      "| Masters degree(M...|    18.0|\n",
      "|   7th and 8th grade|     7.5|\n",
      "|          11th grade|    11.0|\n",
      "|           9th grade|     9.0|\n",
      "|            Children|     0.0|\n",
      "| High school grad...|    12.0|\n",
      "| 12th grade no di...|    12.0|\n",
      "+--------------------+--------+\n",
      "\n"
     ]
    }
   ],
   "source": [
    "df.select(\"education\", \"edu_year\").distinct().show()"
   ]
  },
  {
   "cell_type": "code",
   "execution_count": 17,
   "id": "gothic-visitor",
   "metadata": {},
   "outputs": [
    {
     "name": "stdout",
     "output_type": "stream",
     "text": [
      "+--------------------+--------+\n",
      "|           education|edu_year|\n",
      "+--------------------+--------+\n",
      "| Prof school degr...|    20.0|\n",
      "|          10th grade|    10.0|\n",
      "| Doctorate degree...|    21.0|\n",
      "| Some college but...|    14.0|\n",
      "| Bachelors degree...|    16.0|\n",
      "| Associates degre...|    14.0|\n",
      "| Associates degre...|    14.0|\n",
      "| Less than 1st grade|     0.5|\n",
      "|    5th or 6th grade|     5.5|\n",
      "| 1st 2nd 3rd or 4...|     2.5|\n",
      "| Masters degree(M...|    18.0|\n",
      "|   7th and 8th grade|     7.5|\n",
      "|          11th grade|    11.0|\n",
      "|           9th grade|     9.0|\n",
      "|            Children|     0.0|\n",
      "| High school grad...|    12.0|\n",
      "| 12th grade no di...|    12.0|\n",
      "+--------------------+--------+\n",
      "\n"
     ]
    }
   ],
   "source": [
    "df_test.select(\"education\", \"edu_year\").distinct().show()"
   ]
  },
  {
   "cell_type": "code",
   "execution_count": 18,
   "id": "thick-price",
   "metadata": {},
   "outputs": [],
   "source": [
    "dict_unique = pd.read_parquet(\"../reports/unique_values.parquet\").set_index(\"Var\").to_dict()[\"Unique\"]"
   ]
  },
  {
   "cell_type": "markdown",
   "id": "german-leather",
   "metadata": {},
   "source": [
    "## Binning of the continous variable with 100 bin in order to retain the information inside the variables (excluding age, the other ones have a lot of zeros)"
   ]
  },
  {
   "cell_type": "code",
   "execution_count": 19,
   "id": "married-tunnel",
   "metadata": {},
   "outputs": [],
   "source": [
    "for col in ['age', 'wage_per_hour', 'capital_gains', 'capital_losses', 'stock_dividends', 'weeks_worked']:\n",
    "    qd = QuantileDiscretizer(numBuckets=100, inputCol=col,outputCol=col + \"_q\").fit(df)\n",
    "    df = qd.transform(df)\n",
    "    df = df.drop(col)\n",
    "    df_test = qd.transform(df_test)\n",
    "    df_test = df_test.drop(col)"
   ]
  },
  {
   "cell_type": "code",
   "execution_count": 20,
   "id": "similar-effectiveness",
   "metadata": {},
   "outputs": [],
   "source": [
    "string_cols = [col for col, dtype in df.dtypes if dtype==\"string\"]\n",
    "indexers = [StringIndexer(inputCol=col, outputCol=col+\"_ind\").fit(df) for col in string_cols]"
   ]
  },
  {
   "cell_type": "code",
   "execution_count": 21,
   "id": "fifty-headline",
   "metadata": {},
   "outputs": [],
   "source": [
    "pipeline = Pipeline(stages=indexers)\n",
    "p = pipeline.fit(df)\n",
    "df = p.transform(df)\n",
    "df_test = p.transform(df_test)"
   ]
  },
  {
   "cell_type": "code",
   "execution_count": 22,
   "id": "simplified-array",
   "metadata": {},
   "outputs": [],
   "source": [
    "for col in string_cols:\n",
    "    df = df.drop(col)\n",
    "    df_test = df_test.drop(col)"
   ]
  },
  {
   "cell_type": "code",
   "execution_count": 23,
   "id": "automotive-machinery",
   "metadata": {},
   "outputs": [],
   "source": [
    "# put features into a feature vector column\n",
    "assembler = VectorAssembler(inputCols=[col for col in df.columns if col != \"income_50k_ind\"], \n",
    "                            outputCol=\"features\") "
   ]
  },
  {
   "cell_type": "code",
   "execution_count": 24,
   "id": "daily-vancouver",
   "metadata": {},
   "outputs": [],
   "source": [
    "df = assembler.transform(df)\n",
    "df_test = assembler.transform(df_test)"
   ]
  },
  {
   "cell_type": "markdown",
   "id": "linear-moore",
   "metadata": {},
   "source": [
    "## Feature selection"
   ]
  },
  {
   "cell_type": "code",
   "execution_count": 25,
   "id": "latter-control",
   "metadata": {},
   "outputs": [],
   "source": [
    "selector = ChiSqSelector(featuresCol=\"features\", selectorType=\"fdr\",\n",
    "                         outputCol=\"selectedFeatures\", labelCol=\"income_50k_ind\")\n",
    "s = selector.fit(df)\n",
    "df = s.transform(df)\n",
    "df_test = s.transform(df_test)"
   ]
  },
  {
   "cell_type": "markdown",
   "id": "reflected-aspect",
   "metadata": {},
   "source": [
    "## Standardization, this is a best practice, it usually brings to better performance using algorithms based on trees and it's necessary using regularization in parametric models (for example logistic regressions and NN)"
   ]
  },
  {
   "cell_type": "code",
   "execution_count": 26,
   "id": "daily-edward",
   "metadata": {},
   "outputs": [],
   "source": [
    "ss = StandardScaler(inputCol=\"selectedFeatures\", outputCol=\"stdSelectedFeatures\")"
   ]
  },
  {
   "cell_type": "code",
   "execution_count": 27,
   "id": "greatest-medium",
   "metadata": {},
   "outputs": [],
   "source": [
    "ss = ss.fit(df)\n",
    "df = ss.transform(df)\n",
    "df_test = ss.transform(df_test)"
   ]
  },
  {
   "cell_type": "markdown",
   "id": "statistical-candy",
   "metadata": {},
   "source": [
    "## 10) Choose a ML algorithm to build an acceptable predictive model in PySpark and explain the reasons for the selection of such algorithm."
   ]
  },
  {
   "cell_type": "markdown",
   "id": "random-issue",
   "metadata": {},
   "source": [
    "### I've chosen a random forest classifier, it's a good baseline, the training time is not too much (with few trees) and has good performance (it used to be the big winner in kaggle competition in the structured data category until xgboost cropped up, now it's either xgboost, lightgbm or catboost that are all part of the same category of Gradient Boosting Decision Tree algorithms)"
   ]
  },
  {
   "cell_type": "code",
   "execution_count": 28,
   "id": "animated-potential",
   "metadata": {},
   "outputs": [],
   "source": [
    "from pyspark.ml.classification import RandomForestClassifier\n",
    "rf = RandomForestClassifier(labelCol=\"income_50k_ind\", featuresCol=\"stdSelectedFeatures\", seed=101)"
   ]
  },
  {
   "cell_type": "code",
   "execution_count": 29,
   "id": "muslim-judges",
   "metadata": {},
   "outputs": [],
   "source": [
    "rf = rf.fit(df)"
   ]
  },
  {
   "cell_type": "code",
   "execution_count": 30,
   "id": "upset-accident",
   "metadata": {},
   "outputs": [],
   "source": [
    "df = rf.transform(df)"
   ]
  },
  {
   "cell_type": "code",
   "execution_count": 31,
   "id": "alpha-family",
   "metadata": {},
   "outputs": [
    {
     "data": {
      "text/html": [
       "<div>\n",
       "<style scoped>\n",
       "    .dataframe tbody tr th:only-of-type {\n",
       "        vertical-align: middle;\n",
       "    }\n",
       "\n",
       "    .dataframe tbody tr th {\n",
       "        vertical-align: top;\n",
       "    }\n",
       "\n",
       "    .dataframe thead th {\n",
       "        text-align: right;\n",
       "    }\n",
       "</style>\n",
       "<table border=\"1\" class=\"dataframe\">\n",
       "  <thead>\n",
       "    <tr style=\"text-align: right;\">\n",
       "      <th></th>\n",
       "      <th>det_ind_code</th>\n",
       "      <th>det_occ_code</th>\n",
       "      <th>num_emp</th>\n",
       "      <th>own_or_self</th>\n",
       "      <th>vet_benefits</th>\n",
       "      <th>year</th>\n",
       "      <th>edu_year</th>\n",
       "      <th>age_q</th>\n",
       "      <th>wage_per_hour_q</th>\n",
       "      <th>capital_gains_q</th>\n",
       "      <th>capital_losses_q</th>\n",
       "      <th>stock_dividends_q</th>\n",
       "      <th>weeks_worked_q</th>\n",
       "      <th>class_worker_ind</th>\n",
       "      <th>education_ind</th>\n",
       "      <th>hs_college_ind</th>\n",
       "      <th>marital_stat_ind</th>\n",
       "      <th>major_ind_code_ind</th>\n",
       "      <th>major_occ_code_ind</th>\n",
       "      <th>race_ind</th>\n",
       "      <th>hisp_origin_ind</th>\n",
       "      <th>sex_ind</th>\n",
       "      <th>union_member_ind</th>\n",
       "      <th>unemp_reason_ind</th>\n",
       "      <th>full_or_part_emp_ind</th>\n",
       "      <th>tax_filer_stat_ind</th>\n",
       "      <th>region_prev_res_ind</th>\n",
       "      <th>state_prev_res_ind</th>\n",
       "      <th>det_hh_fam_stat_ind</th>\n",
       "      <th>det_hh_summ_ind</th>\n",
       "      <th>mig_chg_msa_ind</th>\n",
       "      <th>mig_chg_reg_ind</th>\n",
       "      <th>mig_move_reg_ind</th>\n",
       "      <th>mig_same_ind</th>\n",
       "      <th>mig_prev_sunbelt_ind</th>\n",
       "      <th>fam_under_18_ind</th>\n",
       "      <th>country_father_ind</th>\n",
       "      <th>country_mother_ind</th>\n",
       "      <th>country_self_ind</th>\n",
       "      <th>citizenship_ind</th>\n",
       "      <th>vet_question_ind</th>\n",
       "      <th>income_50k_ind</th>\n",
       "      <th>features</th>\n",
       "      <th>selectedFeatures</th>\n",
       "      <th>stdSelectedFeatures</th>\n",
       "      <th>rawPrediction</th>\n",
       "      <th>probability</th>\n",
       "      <th>prediction</th>\n",
       "    </tr>\n",
       "  </thead>\n",
       "  <tbody>\n",
       "    <tr>\n",
       "      <th>0</th>\n",
       "      <td>37.0</td>\n",
       "      <td>38.0</td>\n",
       "      <td>2.0</td>\n",
       "      <td>0.0</td>\n",
       "      <td>2.0</td>\n",
       "      <td>95.0</td>\n",
       "      <td>10.0</td>\n",
       "      <td>58.0</td>\n",
       "      <td>1.0</td>\n",
       "      <td>1.0</td>\n",
       "      <td>1.0</td>\n",
       "      <td>2.0</td>\n",
       "      <td>17.0</td>\n",
       "      <td>1.0</td>\n",
       "      <td>5.0</td>\n",
       "      <td>0.0</td>\n",
       "      <td>2.0</td>\n",
       "      <td>7.0</td>\n",
       "      <td>9.0</td>\n",
       "      <td>0.0</td>\n",
       "      <td>0.0</td>\n",
       "      <td>1.0</td>\n",
       "      <td>0.0</td>\n",
       "      <td>0.0</td>\n",
       "      <td>1.0</td>\n",
       "      <td>2.0</td>\n",
       "      <td>0.0</td>\n",
       "      <td>0.0</td>\n",
       "      <td>3.0</td>\n",
       "      <td>0.0</td>\n",
       "      <td>0.0</td>\n",
       "      <td>0.0</td>\n",
       "      <td>0.0</td>\n",
       "      <td>0.0</td>\n",
       "      <td>0.0</td>\n",
       "      <td>0.0</td>\n",
       "      <td>2.0</td>\n",
       "      <td>0.0</td>\n",
       "      <td>0.0</td>\n",
       "      <td>0.0</td>\n",
       "      <td>0.0</td>\n",
       "      <td>0.0</td>\n",
       "      <td>(37.0, 38.0, 2.0, 0.0, 2.0, 95.0, 10.0, 58.0, ...</td>\n",
       "      <td>(37.0, 38.0, 2.0, 0.0, 2.0, 95.0, 10.0, 58.0, ...</td>\n",
       "      <td>(2.047918095562956, 2.628992936581328, 0.84562...</td>\n",
       "      <td>[18.141034505440196, 1.858965494559804]</td>\n",
       "      <td>[0.9070517252720098, 0.0929482747279902]</td>\n",
       "      <td>0.0</td>\n",
       "    </tr>\n",
       "    <tr>\n",
       "      <th>1</th>\n",
       "      <td>0.0</td>\n",
       "      <td>0.0</td>\n",
       "      <td>0.0</td>\n",
       "      <td>0.0</td>\n",
       "      <td>0.0</td>\n",
       "      <td>94.0</td>\n",
       "      <td>0.0</td>\n",
       "      <td>15.0</td>\n",
       "      <td>1.0</td>\n",
       "      <td>1.0</td>\n",
       "      <td>1.0</td>\n",
       "      <td>1.0</td>\n",
       "      <td>1.0</td>\n",
       "      <td>0.0</td>\n",
       "      <td>1.0</td>\n",
       "      <td>0.0</td>\n",
       "      <td>0.0</td>\n",
       "      <td>0.0</td>\n",
       "      <td>0.0</td>\n",
       "      <td>1.0</td>\n",
       "      <td>0.0</td>\n",
       "      <td>0.0</td>\n",
       "      <td>0.0</td>\n",
       "      <td>0.0</td>\n",
       "      <td>0.0</td>\n",
       "      <td>0.0</td>\n",
       "      <td>0.0</td>\n",
       "      <td>0.0</td>\n",
       "      <td>1.0</td>\n",
       "      <td>1.0</td>\n",
       "      <td>1.0</td>\n",
       "      <td>1.0</td>\n",
       "      <td>1.0</td>\n",
       "      <td>1.0</td>\n",
       "      <td>1.0</td>\n",
       "      <td>1.0</td>\n",
       "      <td>0.0</td>\n",
       "      <td>0.0</td>\n",
       "      <td>0.0</td>\n",
       "      <td>0.0</td>\n",
       "      <td>0.0</td>\n",
       "      <td>0.0</td>\n",
       "      <td>(0.0, 0.0, 0.0, 0.0, 0.0, 94.0, 0.0, 15.0, 1.0...</td>\n",
       "      <td>(0.0, 0.0, 0.0, 0.0, 0.0, 94.0, 0.0, 15.0, 1.0...</td>\n",
       "      <td>(0.0, 0.0, 0.0, 0.0, 0.0, 187.99956939709733, ...</td>\n",
       "      <td>[19.862500807975604, 0.1374991920243942]</td>\n",
       "      <td>[0.9931250403987804, 0.006874959601219711]</td>\n",
       "      <td>0.0</td>\n",
       "    </tr>\n",
       "    <tr>\n",
       "      <th>2</th>\n",
       "      <td>0.0</td>\n",
       "      <td>0.0</td>\n",
       "      <td>0.0</td>\n",
       "      <td>0.0</td>\n",
       "      <td>0.0</td>\n",
       "      <td>94.0</td>\n",
       "      <td>0.0</td>\n",
       "      <td>10.0</td>\n",
       "      <td>1.0</td>\n",
       "      <td>1.0</td>\n",
       "      <td>1.0</td>\n",
       "      <td>1.0</td>\n",
       "      <td>1.0</td>\n",
       "      <td>0.0</td>\n",
       "      <td>1.0</td>\n",
       "      <td>0.0</td>\n",
       "      <td>0.0</td>\n",
       "      <td>0.0</td>\n",
       "      <td>0.0</td>\n",
       "      <td>0.0</td>\n",
       "      <td>0.0</td>\n",
       "      <td>0.0</td>\n",
       "      <td>0.0</td>\n",
       "      <td>0.0</td>\n",
       "      <td>0.0</td>\n",
       "      <td>0.0</td>\n",
       "      <td>0.0</td>\n",
       "      <td>0.0</td>\n",
       "      <td>1.0</td>\n",
       "      <td>1.0</td>\n",
       "      <td>1.0</td>\n",
       "      <td>1.0</td>\n",
       "      <td>1.0</td>\n",
       "      <td>1.0</td>\n",
       "      <td>1.0</td>\n",
       "      <td>1.0</td>\n",
       "      <td>0.0</td>\n",
       "      <td>0.0</td>\n",
       "      <td>0.0</td>\n",
       "      <td>0.0</td>\n",
       "      <td>0.0</td>\n",
       "      <td>0.0</td>\n",
       "      <td>(0.0, 0.0, 0.0, 0.0, 0.0, 94.0, 0.0, 10.0, 1.0...</td>\n",
       "      <td>(0.0, 0.0, 0.0, 0.0, 0.0, 94.0, 0.0, 10.0, 1.0...</td>\n",
       "      <td>(0.0, 0.0, 0.0, 0.0, 0.0, 187.99956939709733, ...</td>\n",
       "      <td>[19.862500807975604, 0.1374991920243942]</td>\n",
       "      <td>[0.9931250403987804, 0.006874959601219711]</td>\n",
       "      <td>0.0</td>\n",
       "    </tr>\n",
       "    <tr>\n",
       "      <th>3</th>\n",
       "      <td>0.0</td>\n",
       "      <td>0.0</td>\n",
       "      <td>0.0</td>\n",
       "      <td>0.0</td>\n",
       "      <td>2.0</td>\n",
       "      <td>94.0</td>\n",
       "      <td>12.0</td>\n",
       "      <td>64.0</td>\n",
       "      <td>1.0</td>\n",
       "      <td>1.0</td>\n",
       "      <td>1.0</td>\n",
       "      <td>1.0</td>\n",
       "      <td>1.0</td>\n",
       "      <td>0.0</td>\n",
       "      <td>0.0</td>\n",
       "      <td>0.0</td>\n",
       "      <td>2.0</td>\n",
       "      <td>0.0</td>\n",
       "      <td>0.0</td>\n",
       "      <td>0.0</td>\n",
       "      <td>0.0</td>\n",
       "      <td>1.0</td>\n",
       "      <td>0.0</td>\n",
       "      <td>0.0</td>\n",
       "      <td>0.0</td>\n",
       "      <td>2.0</td>\n",
       "      <td>0.0</td>\n",
       "      <td>0.0</td>\n",
       "      <td>3.0</td>\n",
       "      <td>0.0</td>\n",
       "      <td>1.0</td>\n",
       "      <td>1.0</td>\n",
       "      <td>1.0</td>\n",
       "      <td>1.0</td>\n",
       "      <td>1.0</td>\n",
       "      <td>0.0</td>\n",
       "      <td>0.0</td>\n",
       "      <td>0.0</td>\n",
       "      <td>0.0</td>\n",
       "      <td>0.0</td>\n",
       "      <td>0.0</td>\n",
       "      <td>0.0</td>\n",
       "      <td>(0.0, 0.0, 0.0, 0.0, 2.0, 94.0, 12.0, 64.0, 1....</td>\n",
       "      <td>(0.0, 0.0, 0.0, 0.0, 2.0, 94.0, 12.0, 64.0, 1....</td>\n",
       "      <td>(0.0, 0.0, 0.0, 0.0, 2.3488694944822215, 187.9...</td>\n",
       "      <td>[19.61517102409822, 0.38482897590177906]</td>\n",
       "      <td>[0.9807585512049111, 0.019241448795088954]</td>\n",
       "      <td>0.0</td>\n",
       "    </tr>\n",
       "    <tr>\n",
       "      <th>4</th>\n",
       "      <td>32.0</td>\n",
       "      <td>42.0</td>\n",
       "      <td>5.0</td>\n",
       "      <td>2.0</td>\n",
       "      <td>2.0</td>\n",
       "      <td>94.0</td>\n",
       "      <td>12.0</td>\n",
       "      <td>22.0</td>\n",
       "      <td>1.0</td>\n",
       "      <td>1.0</td>\n",
       "      <td>1.0</td>\n",
       "      <td>1.0</td>\n",
       "      <td>15.0</td>\n",
       "      <td>1.0</td>\n",
       "      <td>0.0</td>\n",
       "      <td>0.0</td>\n",
       "      <td>1.0</td>\n",
       "      <td>13.0</td>\n",
       "      <td>8.0</td>\n",
       "      <td>0.0</td>\n",
       "      <td>0.0</td>\n",
       "      <td>1.0</td>\n",
       "      <td>0.0</td>\n",
       "      <td>0.0</td>\n",
       "      <td>0.0</td>\n",
       "      <td>1.0</td>\n",
       "      <td>2.0</td>\n",
       "      <td>32.0</td>\n",
       "      <td>2.0</td>\n",
       "      <td>2.0</td>\n",
       "      <td>8.0</td>\n",
       "      <td>6.0</td>\n",
       "      <td>6.0</td>\n",
       "      <td>2.0</td>\n",
       "      <td>2.0</td>\n",
       "      <td>0.0</td>\n",
       "      <td>0.0</td>\n",
       "      <td>0.0</td>\n",
       "      <td>0.0</td>\n",
       "      <td>0.0</td>\n",
       "      <td>0.0</td>\n",
       "      <td>0.0</td>\n",
       "      <td>[32.0, 42.0, 5.0, 2.0, 2.0, 94.0, 12.0, 22.0, ...</td>\n",
       "      <td>[32.0, 42.0, 5.0, 2.0, 2.0, 94.0, 12.0, 22.0, ...</td>\n",
       "      <td>[1.7711724069733672, 2.905729035168836, 2.1140...</td>\n",
       "      <td>[19.024104725219367, 0.9758952747806311]</td>\n",
       "      <td>[0.9512052362609685, 0.04879476373903156]</td>\n",
       "      <td>0.0</td>\n",
       "    </tr>\n",
       "  </tbody>\n",
       "</table>\n",
       "</div>"
      ],
      "text/plain": [
       "   det_ind_code  det_occ_code  num_emp  own_or_self  vet_benefits  year  \\\n",
       "0          37.0          38.0      2.0          0.0           2.0  95.0   \n",
       "1           0.0           0.0      0.0          0.0           0.0  94.0   \n",
       "2           0.0           0.0      0.0          0.0           0.0  94.0   \n",
       "3           0.0           0.0      0.0          0.0           2.0  94.0   \n",
       "4          32.0          42.0      5.0          2.0           2.0  94.0   \n",
       "\n",
       "   edu_year  age_q  wage_per_hour_q  capital_gains_q  capital_losses_q  \\\n",
       "0      10.0   58.0              1.0              1.0               1.0   \n",
       "1       0.0   15.0              1.0              1.0               1.0   \n",
       "2       0.0   10.0              1.0              1.0               1.0   \n",
       "3      12.0   64.0              1.0              1.0               1.0   \n",
       "4      12.0   22.0              1.0              1.0               1.0   \n",
       "\n",
       "   stock_dividends_q  weeks_worked_q  class_worker_ind  education_ind  \\\n",
       "0                2.0            17.0               1.0            5.0   \n",
       "1                1.0             1.0               0.0            1.0   \n",
       "2                1.0             1.0               0.0            1.0   \n",
       "3                1.0             1.0               0.0            0.0   \n",
       "4                1.0            15.0               1.0            0.0   \n",
       "\n",
       "   hs_college_ind  marital_stat_ind  major_ind_code_ind  major_occ_code_ind  \\\n",
       "0             0.0               2.0                 7.0                 9.0   \n",
       "1             0.0               0.0                 0.0                 0.0   \n",
       "2             0.0               0.0                 0.0                 0.0   \n",
       "3             0.0               2.0                 0.0                 0.0   \n",
       "4             0.0               1.0                13.0                 8.0   \n",
       "\n",
       "   race_ind  hisp_origin_ind  sex_ind  union_member_ind  unemp_reason_ind  \\\n",
       "0       0.0              0.0      1.0               0.0               0.0   \n",
       "1       1.0              0.0      0.0               0.0               0.0   \n",
       "2       0.0              0.0      0.0               0.0               0.0   \n",
       "3       0.0              0.0      1.0               0.0               0.0   \n",
       "4       0.0              0.0      1.0               0.0               0.0   \n",
       "\n",
       "   full_or_part_emp_ind  tax_filer_stat_ind  region_prev_res_ind  \\\n",
       "0                   1.0                 2.0                  0.0   \n",
       "1                   0.0                 0.0                  0.0   \n",
       "2                   0.0                 0.0                  0.0   \n",
       "3                   0.0                 2.0                  0.0   \n",
       "4                   0.0                 1.0                  2.0   \n",
       "\n",
       "   state_prev_res_ind  det_hh_fam_stat_ind  det_hh_summ_ind  mig_chg_msa_ind  \\\n",
       "0                 0.0                  3.0              0.0              0.0   \n",
       "1                 0.0                  1.0              1.0              1.0   \n",
       "2                 0.0                  1.0              1.0              1.0   \n",
       "3                 0.0                  3.0              0.0              1.0   \n",
       "4                32.0                  2.0              2.0              8.0   \n",
       "\n",
       "   mig_chg_reg_ind  mig_move_reg_ind  mig_same_ind  mig_prev_sunbelt_ind  \\\n",
       "0              0.0               0.0           0.0                   0.0   \n",
       "1              1.0               1.0           1.0                   1.0   \n",
       "2              1.0               1.0           1.0                   1.0   \n",
       "3              1.0               1.0           1.0                   1.0   \n",
       "4              6.0               6.0           2.0                   2.0   \n",
       "\n",
       "   fam_under_18_ind  country_father_ind  country_mother_ind  country_self_ind  \\\n",
       "0               0.0                 2.0                 0.0               0.0   \n",
       "1               1.0                 0.0                 0.0               0.0   \n",
       "2               1.0                 0.0                 0.0               0.0   \n",
       "3               0.0                 0.0                 0.0               0.0   \n",
       "4               0.0                 0.0                 0.0               0.0   \n",
       "\n",
       "   citizenship_ind  vet_question_ind  income_50k_ind  \\\n",
       "0              0.0               0.0             0.0   \n",
       "1              0.0               0.0             0.0   \n",
       "2              0.0               0.0             0.0   \n",
       "3              0.0               0.0             0.0   \n",
       "4              0.0               0.0             0.0   \n",
       "\n",
       "                                            features  \\\n",
       "0  (37.0, 38.0, 2.0, 0.0, 2.0, 95.0, 10.0, 58.0, ...   \n",
       "1  (0.0, 0.0, 0.0, 0.0, 0.0, 94.0, 0.0, 15.0, 1.0...   \n",
       "2  (0.0, 0.0, 0.0, 0.0, 0.0, 94.0, 0.0, 10.0, 1.0...   \n",
       "3  (0.0, 0.0, 0.0, 0.0, 2.0, 94.0, 12.0, 64.0, 1....   \n",
       "4  [32.0, 42.0, 5.0, 2.0, 2.0, 94.0, 12.0, 22.0, ...   \n",
       "\n",
       "                                    selectedFeatures  \\\n",
       "0  (37.0, 38.0, 2.0, 0.0, 2.0, 95.0, 10.0, 58.0, ...   \n",
       "1  (0.0, 0.0, 0.0, 0.0, 0.0, 94.0, 0.0, 15.0, 1.0...   \n",
       "2  (0.0, 0.0, 0.0, 0.0, 0.0, 94.0, 0.0, 10.0, 1.0...   \n",
       "3  (0.0, 0.0, 0.0, 0.0, 2.0, 94.0, 12.0, 64.0, 1....   \n",
       "4  [32.0, 42.0, 5.0, 2.0, 2.0, 94.0, 12.0, 22.0, ...   \n",
       "\n",
       "                                 stdSelectedFeatures  \\\n",
       "0  (2.047918095562956, 2.628992936581328, 0.84562...   \n",
       "1  (0.0, 0.0, 0.0, 0.0, 0.0, 187.99956939709733, ...   \n",
       "2  (0.0, 0.0, 0.0, 0.0, 0.0, 187.99956939709733, ...   \n",
       "3  (0.0, 0.0, 0.0, 0.0, 2.3488694944822215, 187.9...   \n",
       "4  [1.7711724069733672, 2.905729035168836, 2.1140...   \n",
       "\n",
       "                              rawPrediction  \\\n",
       "0   [18.141034505440196, 1.858965494559804]   \n",
       "1  [19.862500807975604, 0.1374991920243942]   \n",
       "2  [19.862500807975604, 0.1374991920243942]   \n",
       "3  [19.61517102409822, 0.38482897590177906]   \n",
       "4  [19.024104725219367, 0.9758952747806311]   \n",
       "\n",
       "                                  probability  prediction  \n",
       "0    [0.9070517252720098, 0.0929482747279902]         0.0  \n",
       "1  [0.9931250403987804, 0.006874959601219711]         0.0  \n",
       "2  [0.9931250403987804, 0.006874959601219711]         0.0  \n",
       "3  [0.9807585512049111, 0.019241448795088954]         0.0  \n",
       "4   [0.9512052362609685, 0.04879476373903156]         0.0  "
      ]
     },
     "execution_count": 31,
     "metadata": {},
     "output_type": "execute_result"
    }
   ],
   "source": [
    "df.limit(5).toPandas()"
   ]
  },
  {
   "cell_type": "code",
   "execution_count": 32,
   "id": "wired-motion",
   "metadata": {},
   "outputs": [],
   "source": [
    "df_r = df.select(\"probability\", \"income_50k_ind\").toPandas()"
   ]
  },
  {
   "cell_type": "code",
   "execution_count": 33,
   "id": "radical-volunteer",
   "metadata": {},
   "outputs": [],
   "source": [
    "df_r[\"probability\"] = df_r[\"probability\"].map(lambda x: x[1])"
   ]
  },
  {
   "cell_type": "markdown",
   "id": "seasonal-august",
   "metadata": {},
   "source": [
    "# 11) Print the model performance measurements such as ROC, AUC, Confusion Matrix for both train and test data."
   ]
  },
  {
   "cell_type": "code",
   "execution_count": 34,
   "id": "reported-parade",
   "metadata": {},
   "outputs": [],
   "source": [
    "from sklearn.metrics import roc_auc_score"
   ]
  },
  {
   "cell_type": "code",
   "execution_count": 35,
   "id": "streaming-backup",
   "metadata": {},
   "outputs": [
    {
     "data": {
      "text/plain": [
       "0.9224782940047836"
      ]
     },
     "execution_count": 35,
     "metadata": {},
     "output_type": "execute_result"
    }
   ],
   "source": [
    "roc_auc_score(df_r.income_50k_ind, df_r[\"probability\"])"
   ]
  },
  {
   "cell_type": "code",
   "execution_count": 36,
   "id": "sorted-december",
   "metadata": {},
   "outputs": [],
   "source": [
    "df_test = rf.transform(df_test)"
   ]
  },
  {
   "cell_type": "code",
   "execution_count": 37,
   "id": "monetary-northern",
   "metadata": {},
   "outputs": [],
   "source": [
    "df_test_r = df_test.select(\"probability\", \"income_50k_ind\").toPandas()"
   ]
  },
  {
   "cell_type": "code",
   "execution_count": 38,
   "id": "after-sellers",
   "metadata": {},
   "outputs": [],
   "source": [
    "df_test_r[\"probability\"] = df_test_r[\"probability\"].map(lambda x: x[1])"
   ]
  },
  {
   "cell_type": "code",
   "execution_count": 39,
   "id": "royal-hunger",
   "metadata": {},
   "outputs": [
    {
     "data": {
      "text/plain": [
       "0.9234119623121495"
      ]
     },
     "execution_count": 39,
     "metadata": {},
     "output_type": "execute_result"
    }
   ],
   "source": [
    "roc_auc_score(df_test_r.income_50k_ind, df_test_r[\"probability\"])"
   ]
  },
  {
   "cell_type": "code",
   "execution_count": 40,
   "id": "documentary-jordan",
   "metadata": {},
   "outputs": [
    {
     "data": {
      "text/plain": [
       "SparseVector(41, {0: 0.0156, 1: 0.0909, 2: 0.0159, 6: 0.2234, 7: 0.0318, 8: 0.0004, 9: 0.1892, 10: 0.0126, 11: 0.0933, 12: 0.033, 13: 0.027, 14: 0.0311, 16: 0.0012, 17: 0.0548, 18: 0.0725, 20: 0.0026, 21: 0.0376, 22: 0.0, 23: 0.0001, 24: 0.0001, 25: 0.0063, 27: 0.0001, 28: 0.0257, 29: 0.0343, 30: 0.0, 32: 0.0, 34: 0.0001, 36: 0.0001, 37: 0.0001, 38: 0.0001, 39: 0.0, 40: 0.0})"
      ]
     },
     "execution_count": 40,
     "metadata": {},
     "output_type": "execute_result"
    }
   ],
   "source": [
    "rf.featureImportances"
   ]
  },
  {
   "cell_type": "code",
   "execution_count": 41,
   "id": "recovered-pasta",
   "metadata": {},
   "outputs": [
    {
     "data": {
      "text/html": [
       "<div>\n",
       "<style scoped>\n",
       "    .dataframe tbody tr th:only-of-type {\n",
       "        vertical-align: middle;\n",
       "    }\n",
       "\n",
       "    .dataframe tbody tr th {\n",
       "        vertical-align: top;\n",
       "    }\n",
       "\n",
       "    .dataframe thead th {\n",
       "        text-align: right;\n",
       "    }\n",
       "</style>\n",
       "<table border=\"1\" class=\"dataframe\">\n",
       "  <thead>\n",
       "    <tr style=\"text-align: right;\">\n",
       "      <th></th>\n",
       "      <th>det_ind_code</th>\n",
       "      <th>det_occ_code</th>\n",
       "      <th>num_emp</th>\n",
       "      <th>own_or_self</th>\n",
       "      <th>vet_benefits</th>\n",
       "      <th>year</th>\n",
       "      <th>edu_year</th>\n",
       "      <th>age_q</th>\n",
       "      <th>wage_per_hour_q</th>\n",
       "      <th>capital_gains_q</th>\n",
       "      <th>capital_losses_q</th>\n",
       "      <th>stock_dividends_q</th>\n",
       "      <th>weeks_worked_q</th>\n",
       "      <th>class_worker_ind</th>\n",
       "      <th>education_ind</th>\n",
       "      <th>hs_college_ind</th>\n",
       "      <th>marital_stat_ind</th>\n",
       "      <th>major_ind_code_ind</th>\n",
       "      <th>major_occ_code_ind</th>\n",
       "      <th>race_ind</th>\n",
       "      <th>hisp_origin_ind</th>\n",
       "      <th>sex_ind</th>\n",
       "      <th>union_member_ind</th>\n",
       "      <th>unemp_reason_ind</th>\n",
       "      <th>full_or_part_emp_ind</th>\n",
       "      <th>tax_filer_stat_ind</th>\n",
       "      <th>region_prev_res_ind</th>\n",
       "      <th>state_prev_res_ind</th>\n",
       "      <th>det_hh_fam_stat_ind</th>\n",
       "      <th>det_hh_summ_ind</th>\n",
       "      <th>mig_chg_msa_ind</th>\n",
       "      <th>mig_chg_reg_ind</th>\n",
       "      <th>mig_move_reg_ind</th>\n",
       "      <th>mig_same_ind</th>\n",
       "      <th>mig_prev_sunbelt_ind</th>\n",
       "      <th>fam_under_18_ind</th>\n",
       "      <th>country_father_ind</th>\n",
       "      <th>country_mother_ind</th>\n",
       "      <th>country_self_ind</th>\n",
       "      <th>citizenship_ind</th>\n",
       "      <th>vet_question_ind</th>\n",
       "      <th>income_50k_ind</th>\n",
       "      <th>features</th>\n",
       "      <th>selectedFeatures</th>\n",
       "      <th>stdSelectedFeatures</th>\n",
       "      <th>rawPrediction</th>\n",
       "      <th>probability</th>\n",
       "      <th>prediction</th>\n",
       "    </tr>\n",
       "  </thead>\n",
       "  <tbody>\n",
       "    <tr>\n",
       "      <th>0</th>\n",
       "      <td>37.0</td>\n",
       "      <td>38.0</td>\n",
       "      <td>2.0</td>\n",
       "      <td>0.0</td>\n",
       "      <td>2.0</td>\n",
       "      <td>95.0</td>\n",
       "      <td>10.0</td>\n",
       "      <td>58.0</td>\n",
       "      <td>1.0</td>\n",
       "      <td>1.0</td>\n",
       "      <td>1.0</td>\n",
       "      <td>2.0</td>\n",
       "      <td>17.0</td>\n",
       "      <td>1.0</td>\n",
       "      <td>5.0</td>\n",
       "      <td>0.0</td>\n",
       "      <td>2.0</td>\n",
       "      <td>7.0</td>\n",
       "      <td>9.0</td>\n",
       "      <td>0.0</td>\n",
       "      <td>0.0</td>\n",
       "      <td>1.0</td>\n",
       "      <td>0.0</td>\n",
       "      <td>0.0</td>\n",
       "      <td>1.0</td>\n",
       "      <td>2.0</td>\n",
       "      <td>0.0</td>\n",
       "      <td>0.0</td>\n",
       "      <td>3.0</td>\n",
       "      <td>0.0</td>\n",
       "      <td>0.0</td>\n",
       "      <td>0.0</td>\n",
       "      <td>0.0</td>\n",
       "      <td>0.0</td>\n",
       "      <td>0.0</td>\n",
       "      <td>0.0</td>\n",
       "      <td>2.0</td>\n",
       "      <td>0.0</td>\n",
       "      <td>0.0</td>\n",
       "      <td>0.0</td>\n",
       "      <td>0.0</td>\n",
       "      <td>0.0</td>\n",
       "      <td>(37.0, 38.0, 2.0, 0.0, 2.0, 95.0, 10.0, 58.0, ...</td>\n",
       "      <td>(37.0, 38.0, 2.0, 0.0, 2.0, 95.0, 10.0, 58.0, ...</td>\n",
       "      <td>(2.047918095562956, 2.628992936581328, 0.84562...</td>\n",
       "      <td>[18.141034505440196, 1.858965494559804]</td>\n",
       "      <td>[0.9070517252720098, 0.0929482747279902]</td>\n",
       "      <td>0.0</td>\n",
       "    </tr>\n",
       "  </tbody>\n",
       "</table>\n",
       "</div>"
      ],
      "text/plain": [
       "   det_ind_code  det_occ_code  num_emp  own_or_self  vet_benefits  year  \\\n",
       "0          37.0          38.0      2.0          0.0           2.0  95.0   \n",
       "\n",
       "   edu_year  age_q  wage_per_hour_q  capital_gains_q  capital_losses_q  \\\n",
       "0      10.0   58.0              1.0              1.0               1.0   \n",
       "\n",
       "   stock_dividends_q  weeks_worked_q  class_worker_ind  education_ind  \\\n",
       "0                2.0            17.0               1.0            5.0   \n",
       "\n",
       "   hs_college_ind  marital_stat_ind  major_ind_code_ind  major_occ_code_ind  \\\n",
       "0             0.0               2.0                 7.0                 9.0   \n",
       "\n",
       "   race_ind  hisp_origin_ind  sex_ind  union_member_ind  unemp_reason_ind  \\\n",
       "0       0.0              0.0      1.0               0.0               0.0   \n",
       "\n",
       "   full_or_part_emp_ind  tax_filer_stat_ind  region_prev_res_ind  \\\n",
       "0                   1.0                 2.0                  0.0   \n",
       "\n",
       "   state_prev_res_ind  det_hh_fam_stat_ind  det_hh_summ_ind  mig_chg_msa_ind  \\\n",
       "0                 0.0                  3.0              0.0              0.0   \n",
       "\n",
       "   mig_chg_reg_ind  mig_move_reg_ind  mig_same_ind  mig_prev_sunbelt_ind  \\\n",
       "0              0.0               0.0           0.0                   0.0   \n",
       "\n",
       "   fam_under_18_ind  country_father_ind  country_mother_ind  country_self_ind  \\\n",
       "0               0.0                 2.0                 0.0               0.0   \n",
       "\n",
       "   citizenship_ind  vet_question_ind  income_50k_ind  \\\n",
       "0              0.0               0.0             0.0   \n",
       "\n",
       "                                            features  \\\n",
       "0  (37.0, 38.0, 2.0, 0.0, 2.0, 95.0, 10.0, 58.0, ...   \n",
       "\n",
       "                                    selectedFeatures  \\\n",
       "0  (37.0, 38.0, 2.0, 0.0, 2.0, 95.0, 10.0, 58.0, ...   \n",
       "\n",
       "                                 stdSelectedFeatures  \\\n",
       "0  (2.047918095562956, 2.628992936581328, 0.84562...   \n",
       "\n",
       "                             rawPrediction  \\\n",
       "0  [18.141034505440196, 1.858965494559804]   \n",
       "\n",
       "                                probability  prediction  \n",
       "0  [0.9070517252720098, 0.0929482747279902]         0.0  "
      ]
     },
     "execution_count": 41,
     "metadata": {},
     "output_type": "execute_result"
    }
   ],
   "source": [
    "df.limit(1).toPandas()"
   ]
  },
  {
   "cell_type": "code",
   "execution_count": 42,
   "id": "successful-vegetation",
   "metadata": {},
   "outputs": [
    {
     "name": "stdout",
     "output_type": "stream",
     "text": [
      "+------------+-------------------+\n",
      "|det_occ_code|avg(income_50k_ind)|\n",
      "+------------+-------------------+\n",
      "|         7.0| 0.6839945280437757|\n",
      "|        11.0| 0.6593406593406593|\n",
      "|         4.0|0.49780058651026393|\n",
      "|         5.0| 0.3707602339181287|\n",
      "|         6.0| 0.3492063492063492|\n",
      "|         2.0|0.32217907720420286|\n",
      "|        18.0| 0.2742382271468144|\n",
      "|        17.0| 0.2715979672501412|\n",
      "|         9.0| 0.2696476964769648|\n",
      "|         1.0|0.24448529411764705|\n",
      "|        46.0| 0.2222222222222222|\n",
      "|        15.0|0.21226993865030674|\n",
      "|         3.0|                0.2|\n",
      "|        16.0| 0.1753265602322206|\n",
      "|         8.0| 0.1724779172477917|\n",
      "|        28.0| 0.1559301625526791|\n",
      "|        21.0|0.15196998123827393|\n",
      "|        12.0|0.13682634730538923|\n",
      "|        14.0| 0.1298283261802575|\n",
      "|        45.0|0.11627906976744186|\n",
      "+------------+-------------------+\n",
      "only showing top 20 rows\n",
      "\n"
     ]
    }
   ],
   "source": [
    "df.groupBy(\"det_occ_code\").agg(F.mean(\"income_50k_ind\")).orderBy(\"avg(income_50k_ind)\", ascending=False).show()"
   ]
  },
  {
   "cell_type": "code",
   "execution_count": 43,
   "id": "enclosed-monitor",
   "metadata": {},
   "outputs": [
    {
     "name": "stdout",
     "output_type": "stream",
     "text": [
      "+-----+-------------------+\n",
      "|age_q|avg(income_50k_ind)|\n",
      "+-----+-------------------+\n",
      "| 48.0|0.17101967799642218|\n",
      "| 47.0|0.16974431818181818|\n",
      "| 53.0|0.16973995271867612|\n",
      "| 49.0|0.16929460580912864|\n",
      "| 51.0|0.16576332429990967|\n",
      "| 52.0| 0.1598194130925508|\n",
      "| 54.0|0.15390946502057612|\n",
      "| 46.0|0.15384615384615385|\n",
      "| 55.0|0.15375722543352602|\n",
      "| 50.0|0.15172735760971054|\n",
      "| 44.0|0.14780200761509174|\n",
      "| 45.0|0.14429289303661164|\n",
      "| 43.0|0.13989983305509182|\n",
      "| 42.0| 0.1333758774728781|\n",
      "| 58.0|           0.128125|\n",
      "| 40.0|0.12786259541984732|\n",
      "| 57.0|0.12700369913686807|\n",
      "| 56.0|0.12573099415204678|\n",
      "| 41.0| 0.1252408477842004|\n",
      "| 39.0|0.11687519072322246|\n",
      "+-----+-------------------+\n",
      "only showing top 20 rows\n",
      "\n"
     ]
    }
   ],
   "source": [
    "df.groupBy(\"age_q\").agg(F.mean(\"income_50k_ind\")).orderBy(\"avg(income_50k_ind)\", ascending=False).show()"
   ]
  },
  {
   "cell_type": "code",
   "execution_count": 44,
   "id": "classified-spouse",
   "metadata": {},
   "outputs": [
    {
     "name": "stdout",
     "output_type": "stream",
     "text": [
      "+--------------+--------------------+\n",
      "|weeks_worked_q| avg(income_50k_ind)|\n",
      "+--------------+--------------------+\n",
      "|          17.0| 0.14800750917313765|\n",
      "|          16.0| 0.10790906179955172|\n",
      "|          15.0| 0.09114470842332613|\n",
      "|          13.0| 0.06345634563456345|\n",
      "|          12.0| 0.04941176470588235|\n",
      "|          14.0| 0.04316546762589928|\n",
      "|          11.0| 0.04202440126525079|\n",
      "|          10.0|0.037407797681770286|\n",
      "|           9.0| 0.03349514563106796|\n",
      "|           8.0| 0.03199658703071672|\n",
      "|           7.0|0.017815646785437646|\n",
      "|           6.0|0.017633410672853827|\n",
      "|           5.0|0.016436903499469777|\n",
      "|           3.0|0.013102480112306972|\n",
      "|           4.0| 0.01054481546572935|\n",
      "|           2.0|0.008583690987124463|\n",
      "|           1.0| 0.00633977928936931|\n",
      "+--------------+--------------------+\n",
      "\n"
     ]
    }
   ],
   "source": [
    "df.groupBy(\"weeks_worked_q\").agg(F.mean(\"income_50k_ind\")).orderBy(\"avg(income_50k_ind)\", ascending=False).show()"
   ]
  },
  {
   "cell_type": "code",
   "execution_count": 45,
   "id": "genuine-bronze",
   "metadata": {},
   "outputs": [
    {
     "name": "stdout",
     "output_type": "stream",
     "text": [
      "+----------------+--------------------+\n",
      "|class_worker_ind| avg(income_50k_ind)|\n",
      "+----------------+--------------------+\n",
      "|             5.0|  0.3473200612557427|\n",
      "|             6.0|  0.2041025641025641|\n",
      "|             2.0|  0.1290704558910598|\n",
      "|             4.0| 0.11473858528507215|\n",
      "|             3.0| 0.10881294964028777|\n",
      "|             1.0| 0.10165491197867496|\n",
      "|             0.0|0.009017906129981546|\n",
      "|             8.0|0.006060606060606061|\n",
      "|             7.0|0.004555808656036446|\n",
      "+----------------+--------------------+\n",
      "\n"
     ]
    }
   ],
   "source": [
    "df.groupBy(\"class_worker_ind\").agg(F.mean(\"income_50k_ind\")).orderBy(\"avg(income_50k_ind)\", ascending=False).show()"
   ]
  },
  {
   "cell_type": "code",
   "execution_count": 46,
   "id": "physical-wheel",
   "metadata": {},
   "outputs": [
    {
     "name": "stdout",
     "output_type": "stream",
     "text": [
      "+---------------+--------------------+\n",
      "|capital_gains_q| avg(income_50k_ind)|\n",
      "+---------------+--------------------+\n",
      "|            4.0|  0.7266320474777448|\n",
      "|            3.0|  0.2637144745538665|\n",
      "|            1.0| 0.05159364507835012|\n",
      "|            2.0|0.025310173697270472|\n",
      "+---------------+--------------------+\n",
      "\n"
     ]
    }
   ],
   "source": [
    "df.groupBy(\"capital_gains_q\").agg(F.mean(\"income_50k_ind\")).orderBy(\"avg(income_50k_ind)\", ascending=False).show()"
   ]
  },
  {
   "cell_type": "code",
   "execution_count": 47,
   "id": "continent-union",
   "metadata": {},
   "outputs": [
    {
     "name": "stdout",
     "output_type": "stream",
     "text": [
      "+--------+--------------------+\n",
      "|edu_year| avg(income_50k_ind)|\n",
      "+--------+--------------------+\n",
      "|    20.0|  0.5404350250976018|\n",
      "|    21.0|  0.5201900237529691|\n",
      "|    18.0|  0.3115731539519951|\n",
      "|    16.0| 0.19708029197080293|\n",
      "|    14.0| 0.06957726219333529|\n",
      "|    12.0| 0.03785645024043694|\n",
      "|    11.0|0.010180337405468295|\n",
      "|     7.5|0.008992131884600974|\n",
      "|    10.0|0.008204313881169776|\n",
      "|     2.5|0.007226236798221234|\n",
      "|     5.5|0.006713457430576747|\n",
      "|     9.0|0.006099518459069021|\n",
      "|     0.5|0.001221001221001221|\n",
      "|     0.0|                 0.0|\n",
      "+--------+--------------------+\n",
      "\n"
     ]
    }
   ],
   "source": [
    "df.groupBy(\"edu_year\").agg(F.mean(\"income_50k_ind\")).orderBy(\"avg(income_50k_ind)\", ascending=False).show()"
   ]
  },
  {
   "cell_type": "code",
   "execution_count": 48,
   "id": "special-pittsburgh",
   "metadata": {},
   "outputs": [],
   "source": [
    "from sklearn.metrics import classification_report"
   ]
  },
  {
   "cell_type": "code",
   "execution_count": 49,
   "id": "bulgarian-marathon",
   "metadata": {},
   "outputs": [],
   "source": [
    "df_r = df.select(\"probability\", \"income_50k_ind\", \"prediction\").toPandas()\n",
    "df_r[\"probability\"] = df_r[\"probability\"].map(lambda x: x[1])\n",
    "df_test_r = df_test.select(\"probability\", \"income_50k_ind\", \"prediction\").toPandas()\n",
    "df_test_r[\"probability\"] = df_test_r[\"probability\"].map(lambda x: x[1])"
   ]
  },
  {
   "cell_type": "code",
   "execution_count": 52,
   "id": "marked-knife",
   "metadata": {},
   "outputs": [
    {
     "name": "stdout",
     "output_type": "stream",
     "text": [
      "              precision    recall  f1-score   support\n",
      "\n",
      "         0.0       0.94      1.00      0.97    187141\n",
      "         1.0       0.90      0.09      0.17     12382\n",
      "\n",
      "    accuracy                           0.94    199523\n",
      "   macro avg       0.92      0.55      0.57    199523\n",
      "weighted avg       0.94      0.94      0.92    199523\n",
      "\n"
     ]
    }
   ],
   "source": [
    "print(classification_report(df_r.income_50k_ind, df_r.prediction))"
   ]
  },
  {
   "cell_type": "code",
   "execution_count": 53,
   "id": "demographic-armor",
   "metadata": {},
   "outputs": [
    {
     "name": "stdout",
     "output_type": "stream",
     "text": [
      "              precision    recall  f1-score   support\n",
      "\n",
      "         0.0       0.94      1.00      0.97     93576\n",
      "         1.0       0.91      0.09      0.17      6186\n",
      "\n",
      "    accuracy                           0.94     99762\n",
      "   macro avg       0.93      0.55      0.57     99762\n",
      "weighted avg       0.94      0.94      0.92     99762\n",
      "\n"
     ]
    }
   ],
   "source": [
    "print(classification_report(df_test_r.income_50k_ind, df_test_r.prediction))"
   ]
  },
  {
   "cell_type": "markdown",
   "id": "studied-bookmark",
   "metadata": {},
   "source": [
    "### The default threshold 0.5 is not good enough, we can try different thresholds, there's a trade-off between precision and recall based on the threshold, we should choose the best one based on the business use of the algorithm understanding what's more important"
   ]
  },
  {
   "cell_type": "code",
   "execution_count": 57,
   "id": "interior-money",
   "metadata": {},
   "outputs": [
    {
     "name": "stdout",
     "output_type": "stream",
     "text": [
      "              precision    recall  f1-score   support\n",
      "\n",
      "         0.0       0.97      0.97      0.97    187141\n",
      "         1.0       0.51      0.54      0.53     12382\n",
      "\n",
      "    accuracy                           0.94    199523\n",
      "   macro avg       0.74      0.75      0.75    199523\n",
      "weighted avg       0.94      0.94      0.94    199523\n",
      "\n"
     ]
    }
   ],
   "source": [
    "print(classification_report(df_r.income_50k_ind, df_r.probability.map(lambda x: 1 if x > 0.2 else 0)))"
   ]
  },
  {
   "cell_type": "code",
   "execution_count": 58,
   "id": "ahead-bishop",
   "metadata": {},
   "outputs": [
    {
     "name": "stdout",
     "output_type": "stream",
     "text": [
      "              precision    recall  f1-score   support\n",
      "\n",
      "         0.0       0.97      0.97      0.97     93576\n",
      "         1.0       0.52      0.55      0.53      6186\n",
      "\n",
      "    accuracy                           0.94     99762\n",
      "   macro avg       0.74      0.76      0.75     99762\n",
      "weighted avg       0.94      0.94      0.94     99762\n",
      "\n"
     ]
    }
   ],
   "source": [
    "print(classification_report(df_test_r.income_50k_ind, df_test_r.probability.map(lambda x: 1 if x > 0.2 else 0)))"
   ]
  }
 ],
 "metadata": {
  "kernelspec": {
   "display_name": "Python 3",
   "language": "python",
   "name": "python3"
  },
  "language_info": {
   "codemirror_mode": {
    "name": "ipython",
    "version": 3
   },
   "file_extension": ".py",
   "mimetype": "text/x-python",
   "name": "python",
   "nbconvert_exporter": "python",
   "pygments_lexer": "ipython3",
   "version": "3.8.6"
  }
 },
 "nbformat": 4,
 "nbformat_minor": 5
}
